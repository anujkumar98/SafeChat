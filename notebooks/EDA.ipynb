{
 "cells": [
  {
   "cell_type": "code",
   "execution_count": 59,
   "metadata": {},
   "outputs": [],
   "source": [
    "import pandas as pd\n",
    "import seaborn as sns\n",
    "import matplotlib.pyplot as plt"
   ]
  },
  {
   "cell_type": "code",
   "execution_count": 60,
   "metadata": {},
   "outputs": [],
   "source": [
    "##Setting display option\n",
    "pd.set_option('display.max_columns', None)\n",
    "pd.set_option('display.max_rows', None)\n",
    "pd.set_option('display.max_colwidth', None)\n",
    "sns.set_theme(style=\"whitegrid\", palette=\"pastel\")"
   ]
  },
  {
   "cell_type": "code",
   "execution_count": 6,
   "metadata": {},
   "outputs": [
    {
     "data": {
      "text/html": [
       "<div>\n",
       "<style scoped>\n",
       "    .dataframe tbody tr th:only-of-type {\n",
       "        vertical-align: middle;\n",
       "    }\n",
       "\n",
       "    .dataframe tbody tr th {\n",
       "        vertical-align: top;\n",
       "    }\n",
       "\n",
       "    .dataframe thead th {\n",
       "        text-align: right;\n",
       "    }\n",
       "</style>\n",
       "<table border=\"1\" class=\"dataframe\">\n",
       "  <thead>\n",
       "    <tr style=\"text-align: right;\">\n",
       "      <th></th>\n",
       "      <th>text</th>\n",
       "      <th>created_at</th>\n",
       "      <th>removed</th>\n",
       "    </tr>\n",
       "  </thead>\n",
       "  <tbody>\n",
       "    <tr>\n",
       "      <th>0</th>\n",
       "      <td>I've always been taught it emerged from the earth after an impace. That is why it has similar elemental distribution to earth</td>\n",
       "      <td>1520121101</td>\n",
       "      <td>0</td>\n",
       "    </tr>\n",
       "    <tr>\n",
       "      <th>1</th>\n",
       "      <td>As an ECE, my first feeling as \"HEY THAT'S NOT-\" and then I thought about all the times my co-workers couldn't even write a simple message in our communication book without making mistakes. \\r\\n\\r\\nI'm getting out of the profession.</td>\n",
       "      <td>1506533157</td>\n",
       "      <td>1</td>\n",
       "    </tr>\n",
       "    <tr>\n",
       "      <th>2</th>\n",
       "      <td>Monday: Drug companies stock dives on good news for patients.</td>\n",
       "      <td>1528087570</td>\n",
       "      <td>1</td>\n",
       "    </tr>\n",
       "    <tr>\n",
       "      <th>3</th>\n",
       "      <td>i learned that all hybrids are unfertile i wont read clickbaits https://biology.stackexchange.com/questions/16922/why-are-hybrids-infertile</td>\n",
       "      <td>1504290041</td>\n",
       "      <td>0</td>\n",
       "    </tr>\n",
       "    <tr>\n",
       "      <th>4</th>\n",
       "      <td>Well i was wanting to get wasted tonight.  Not so much after reading this article...</td>\n",
       "      <td>1535140675</td>\n",
       "      <td>0</td>\n",
       "    </tr>\n",
       "  </tbody>\n",
       "</table>\n",
       "</div>"
      ],
      "text/plain": [
       "                                                                                                                                                                                                                                        text  \\\n",
       "0                                                                                                              I've always been taught it emerged from the earth after an impace. That is why it has similar elemental distribution to earth   \n",
       "1  As an ECE, my first feeling as \"HEY THAT'S NOT-\" and then I thought about all the times my co-workers couldn't even write a simple message in our communication book without making mistakes. \\r\\n\\r\\nI'm getting out of the profession.    \n",
       "2                                                                                                                                                                              Monday: Drug companies stock dives on good news for patients.   \n",
       "3                                                                                                i learned that all hybrids are unfertile i wont read clickbaits https://biology.stackexchange.com/questions/16922/why-are-hybrids-infertile   \n",
       "4                                                                                                                                                       Well i was wanting to get wasted tonight.  Not so much after reading this article...   \n",
       "\n",
       "   created_at  removed  \n",
       "0  1520121101        0  \n",
       "1  1506533157        1  \n",
       "2  1528087570        1  \n",
       "3  1504290041        0  \n",
       "4  1535140675        0  "
      ]
     },
     "execution_count": 6,
     "metadata": {},
     "output_type": "execute_result"
    }
   ],
   "source": [
    "df=pd.read_parquet(\"https://storage.googleapis.com/safechat-gcs/safechat_data.parquet\")\n",
    "df.head()"
   ]
  },
  {
   "cell_type": "code",
   "execution_count": 7,
   "metadata": {},
   "outputs": [
    {
     "data": {
      "text/plain": [
       "(223372, 3)"
      ]
     },
     "execution_count": 7,
     "metadata": {},
     "output_type": "execute_result"
    }
   ],
   "source": [
    "df.shape"
   ]
  },
  {
   "attachments": {},
   "cell_type": "markdown",
   "metadata": {},
   "source": [
    "### Checking the created_at column"
   ]
  },
  {
   "cell_type": "code",
   "execution_count": 12,
   "metadata": {},
   "outputs": [],
   "source": [
    "##Function to convert timestamp to datetime\n",
    "def get_time(timestamp):\n",
    "    time = pd.to_datetime(timestamp, unit='s')  \n",
    "    return(time)"
   ]
  },
  {
   "cell_type": "code",
   "execution_count": 13,
   "metadata": {},
   "outputs": [
    {
     "name": "stdout",
     "output_type": "stream",
     "text": [
      "Max of created date: 1538351743  Date: 2018-09-30 23:55:43\n",
      "Min of created date 1483228834  Date: 2017-01-01 00:00:34\n"
     ]
    }
   ],
   "source": [
    "##Getting the date range for comments\n",
    "max_date=df['created_at'].max()\n",
    "print(\"Max of created date:\",max_date, \" Date:\", get_time(max_date))\n",
    "min_date=df['created_at'].min()\n",
    "print(\"Min of created date\",min_date,\" Date:\", get_time(min_date))"
   ]
  },
  {
   "attachments": {},
   "cell_type": "markdown",
   "metadata": {},
   "source": [
    "### Checking the removed column"
   ]
  },
  {
   "cell_type": "code",
   "execution_count": 41,
   "metadata": {},
   "outputs": [
    {
     "data": {
      "text/plain": [
       "array([0, 1])"
      ]
     },
     "execution_count": 41,
     "metadata": {},
     "output_type": "execute_result"
    }
   ],
   "source": [
    "##Checking the removed column\n",
    "## 1 is removed 0 is not removed\n",
    "df['removed'].unique()"
   ]
  },
  {
   "cell_type": "code",
   "execution_count": 65,
   "metadata": {},
   "outputs": [
    {
     "data": {
      "text/plain": [
       "Text(0.5, 1.0, 'Removed vs Not Removed')"
      ]
     },
     "execution_count": 65,
     "metadata": {},
     "output_type": "execute_result"
    },
    {
     "data": {
      "image/png": "[encoded data removed]",
      "text/plain": [
       "<Figure size 640x480 with 1 Axes>"
      ]
     },
     "metadata": {},
     "output_type": "display_data"
    }
   ],
   "source": [
    "##Value for removed and not removed\n",
    "sns.barplot(x=['Not Removed','Removed'],y=df['removed'].value_counts().values.tolist())\n",
    "plt.xlabel('Status')\n",
    "plt.ylabel('Count')\n",
    "plt.title('Removed vs Not Removed')"
   ]
  },
  {
   "cell_type": "code",
   "execution_count": 81,
   "metadata": {},
   "outputs": [
    {
     "name": "stdout",
     "output_type": "stream",
     "text": [
      "Ratio of removed to not removed count:  62.623 %\n"
     ]
    }
   ],
   "source": [
    "##Ratio to removed to not removed\n",
    "count_of_removed=df['removed'].value_counts()[1]\n",
    "count_of_not_removed=df['removed'].value_counts()[0]\n",
    "ratio_rem_to_nrem=(count_of_removed/count_of_not_removed)*100\n",
    "print(\"Ratio of removed to not removed count: \",format(ratio_rem_to_nrem,\".3f\"),\"%\")"
   ]
  }
 ],
 "metadata": {
  "kernelspec": {
   "display_name": "Python 3",
   "language": "python",
   "name": "python3"
  },
  "language_info": {
   "codemirror_mode": {
    "name": "ipython",
    "version": 3
   },
   "file_extension": ".py",
   "mimetype": "text/x-python",
   "name": "python",
   "nbconvert_exporter": "python",
   "pygments_lexer": "ipython3",
   "version": "3.9.6"
  },
  "orig_nbformat": 4
 },
 "nbformat": 4,
 "nbformat_minor": 2
}
