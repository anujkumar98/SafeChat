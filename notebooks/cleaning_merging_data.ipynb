{
 "cells": [
  {
   "cell_type": "code",
   "execution_count": 64,
   "metadata": {},
   "outputs": [],
   "source": [
    "import pandas as pd\n",
    "##Setting display option\n",
    "pd.set_option('display.max_columns', None)\n",
    "pd.set_option('display.max_rows', None)\n",
    "pd.set_option('display.max_colwidth', None)\n"
   ]
  },
  {
   "cell_type": "code",
   "execution_count": 65,
   "metadata": {},
   "outputs": [],
   "source": [
    "def cleaning_function(df,dataset_name):\n",
    "    print(\"Shape before cleaning:\",df.shape)\n",
    "    df=df[['body','created_utc.x','REMOVED']]\n",
    "    df=df.rename(columns={\"body\":\"text\",\"created_utc.x\":\"created_at\",\"REMOVED\":\"removed\"})\n",
    "    df['removed'] = df['removed'].replace({True: 1, False: 0})\n",
    "    print(\"Shape after cleaning:\",df.shape)\n",
    "    return df\n",
    "    "
   ]
  },
  {
   "cell_type": "code",
   "execution_count": 66,
   "metadata": {},
   "outputs": [
    {
     "data": {
      "text/html": [
       "<div>\n",
       "<style scoped>\n",
       "    .dataframe tbody tr th:only-of-type {\n",
       "        vertical-align: middle;\n",
       "    }\n",
       "\n",
       "    .dataframe tbody tr th {\n",
       "        vertical-align: top;\n",
       "    }\n",
       "\n",
       "    .dataframe thead th {\n",
       "        text-align: right;\n",
       "    }\n",
       "</style>\n",
       "<table border=\"1\" class=\"dataframe\">\n",
       "  <thead>\n",
       "    <tr style=\"text-align: right;\">\n",
       "      <th></th>\n",
       "      <th>Unnamed: 0</th>\n",
       "      <th>body</th>\n",
       "      <th>score.x</th>\n",
       "      <th>parent_id.x</th>\n",
       "      <th>id</th>\n",
       "      <th>created_utc.x</th>\n",
       "      <th>retrieved_on</th>\n",
       "      <th>REMOVED</th>\n",
       "    </tr>\n",
       "  </thead>\n",
       "  <tbody>\n",
       "    <tr>\n",
       "      <th>0</th>\n",
       "      <td>1</td>\n",
       "      <td>I've always been taught it emerged from the earth after an impace. That is why it has similar elemental distribution to earth</td>\n",
       "      <td>2</td>\n",
       "      <td>t3_81u15i</td>\n",
       "      <td>dv551g6</td>\n",
       "      <td>1520121101</td>\n",
       "      <td>1524782256</td>\n",
       "      <td>False</td>\n",
       "    </tr>\n",
       "    <tr>\n",
       "      <th>1</th>\n",
       "      <td>2</td>\n",
       "      <td>As an ECE, my first feeling as \"HEY THAT'S NOT-\" and then I thought about all the times my co-workers couldn't even write a simple message in our communication book without making mistakes. \\r\\n\\r\\nI'm getting out of the profession.</td>\n",
       "      <td>2</td>\n",
       "      <td>t3_72sk35</td>\n",
       "      <td>dnl66g6</td>\n",
       "      <td>1506533157</td>\n",
       "      <td>1507150439</td>\n",
       "      <td>True</td>\n",
       "    </tr>\n",
       "    <tr>\n",
       "      <th>2</th>\n",
       "      <td>3</td>\n",
       "      <td>Monday: Drug companies stock dives on good news for patients.</td>\n",
       "      <td>5</td>\n",
       "      <td>t3_8o88yr</td>\n",
       "      <td>e02sjhz</td>\n",
       "      <td>1528087570</td>\n",
       "      <td>1532170350</td>\n",
       "      <td>True</td>\n",
       "    </tr>\n",
       "    <tr>\n",
       "      <th>3</th>\n",
       "      <td>4</td>\n",
       "      <td>i learned that all hybrids are unfertile i wont read clickbaits https://biology.stackexchange.com/questions/16922/why-are-hybrids-infertile</td>\n",
       "      <td>0</td>\n",
       "      <td>t3_6xg9t8</td>\n",
       "      <td>dmfojjp</td>\n",
       "      <td>1504290041</td>\n",
       "      <td>1506407514</td>\n",
       "      <td>False</td>\n",
       "    </tr>\n",
       "    <tr>\n",
       "      <th>4</th>\n",
       "      <td>5</td>\n",
       "      <td>Well i was wanting to get wasted tonight.  Not so much after reading this article...</td>\n",
       "      <td>3</td>\n",
       "      <td>t3_99wi9m</td>\n",
       "      <td>e4rtew8</td>\n",
       "      <td>1535140675</td>\n",
       "      <td>1537893540</td>\n",
       "      <td>False</td>\n",
       "    </tr>\n",
       "  </tbody>\n",
       "</table>\n",
       "</div>"
      ],
      "text/plain": [
       "   Unnamed: 0   \n",
       "0           1  \\\n",
       "1           2   \n",
       "2           3   \n",
       "3           4   \n",
       "4           5   \n",
       "\n",
       "                                                                                                                                                                                                                                        body   \n",
       "0                                                                                                              I've always been taught it emerged from the earth after an impace. That is why it has similar elemental distribution to earth  \\\n",
       "1  As an ECE, my first feeling as \"HEY THAT'S NOT-\" and then I thought about all the times my co-workers couldn't even write a simple message in our communication book without making mistakes. \\r\\n\\r\\nI'm getting out of the profession.    \n",
       "2                                                                                                                                                                              Monday: Drug companies stock dives on good news for patients.   \n",
       "3                                                                                                i learned that all hybrids are unfertile i wont read clickbaits https://biology.stackexchange.com/questions/16922/why-are-hybrids-infertile   \n",
       "4                                                                                                                                                       Well i was wanting to get wasted tonight.  Not so much after reading this article...   \n",
       "\n",
       "   score.x parent_id.x       id  created_utc.x  retrieved_on  REMOVED  \n",
       "0        2   t3_81u15i  dv551g6     1520121101    1524782256    False  \n",
       "1        2   t3_72sk35  dnl66g6     1506533157    1507150439     True  \n",
       "2        5   t3_8o88yr  e02sjhz     1528087570    1532170350     True  \n",
       "3        0   t3_6xg9t8  dmfojjp     1504290041    1506407514    False  \n",
       "4        3   t3_99wi9m  e4rtew8     1535140675    1537893540    False  "
      ]
     },
     "execution_count": 66,
     "metadata": {},
     "output_type": "execute_result"
    }
   ],
   "source": [
    "# Read the CSV file into a DataFrame for train data\n",
    "df_train=pd.read_csv(\"../data/raw/reddit_200k_train.csv\",encoding=\"ISO-8859-1\")\n",
    "df_train.head()"
   ]
  },
  {
   "cell_type": "code",
   "execution_count": 67,
   "metadata": {},
   "outputs": [
    {
     "name": "stdout",
     "output_type": "stream",
     "text": [
      "0    I've always been taught it emerged from the earth after an impace. That is why it has similar elemental distribution to earth\n",
      "Name: body, dtype: object\n"
     ]
    }
   ],
   "source": [
    "# Retrieve the entire text from the specified row and column\n",
    "text = df_train.loc[df['id'] == 'dv551g6']['body']\n",
    "print(text)"
   ]
  },
  {
   "cell_type": "code",
   "execution_count": 68,
   "metadata": {},
   "outputs": [
    {
     "data": {
      "text/plain": [
       "array([False,  True])"
      ]
     },
     "execution_count": 68,
     "metadata": {},
     "output_type": "execute_result"
    }
   ],
   "source": [
    "#unique values in removed column\n",
    "df_train['REMOVED'].unique()"
   ]
  },
  {
   "cell_type": "code",
   "execution_count": 69,
   "metadata": {},
   "outputs": [
    {
     "name": "stdout",
     "output_type": "stream",
     "text": [
      "Shape before cleaning: (167529, 8)\n",
      "Shape after cleaning: (167529, 3)\n"
     ]
    }
   ],
   "source": [
    "#Cleaning and writing as parquet file\n",
    "df_train=cleaning_function(df_train,\"data_train\")"
   ]
  },
  {
   "cell_type": "code",
   "execution_count": 70,
   "metadata": {},
   "outputs": [
    {
     "data": {
      "text/html": [
       "<div>\n",
       "<style scoped>\n",
       "    .dataframe tbody tr th:only-of-type {\n",
       "        vertical-align: middle;\n",
       "    }\n",
       "\n",
       "    .dataframe tbody tr th {\n",
       "        vertical-align: top;\n",
       "    }\n",
       "\n",
       "    .dataframe thead th {\n",
       "        text-align: right;\n",
       "    }\n",
       "</style>\n",
       "<table border=\"1\" class=\"dataframe\">\n",
       "  <thead>\n",
       "    <tr style=\"text-align: right;\">\n",
       "      <th></th>\n",
       "      <th>Unnamed: 0</th>\n",
       "      <th>body</th>\n",
       "      <th>score.x</th>\n",
       "      <th>parent_id.x</th>\n",
       "      <th>id</th>\n",
       "      <th>created_utc.x</th>\n",
       "      <th>retrieved_on</th>\n",
       "      <th>REMOVED</th>\n",
       "    </tr>\n",
       "  </thead>\n",
       "  <tbody>\n",
       "    <tr>\n",
       "      <th>0</th>\n",
       "      <td>1</td>\n",
       "      <td>Hi Larpo_Nadar, your submission has been removed for the following reason(s)\\r\\n \\r\\nYour submission has been removed because flair has not been assigned. \\r\\n \\r\\n*This removal was automatic. If you feel this was done in error, or would like further clarification, please add flair to the post and then [message the mods](http://www.reddit.com/message/compose?to=%2Fr%2FScience&amp;amp;amp;message=My%20Post:%20https://www.reddit.com/r/science/comments/74udg6/a_2017_nobel_laureate_says_he_left_science/).*\\r\\n\\r\\nYou can flair this post by replying to this message with  your  flair choice.  It must be an exact match to one of the following words:\\r\\n\\r\\n Neuroscience, Astronomy,Biology, Health, Engineering, Nanoscience, Paleontology, Cancer, Epidemiology, Social Science, Computer Sci, Physics, Mathematics, Medicine, Animal Science, Environment, Chemistry, Geology, Psychology, Anthropology. \\r\\n\\r\\nOnce flaired, your post will be automatically approved.  Please wait at least 15 minutes before messaging the mods about this post.</td>\n",
       "      <td>0</td>\n",
       "      <td>t3_74udg6</td>\n",
       "      <td>do15nly</td>\n",
       "      <td>1507377013</td>\n",
       "      <td>1509603985</td>\n",
       "      <td>True</td>\n",
       "    </tr>\n",
       "    <tr>\n",
       "      <th>1</th>\n",
       "      <td>2</td>\n",
       "      <td>So out of every 10,000 children with autism who did not get vaccinated, how many ended up with a preventible illness? Any data?</td>\n",
       "      <td>8</td>\n",
       "      <td>t3_879uw5</td>\n",
       "      <td>dwc3dps</td>\n",
       "      <td>1522107010</td>\n",
       "      <td>1525623538</td>\n",
       "      <td>False</td>\n",
       "    </tr>\n",
       "    <tr>\n",
       "      <th>2</th>\n",
       "      <td>3</td>\n",
       "      <td>When I was pregnant, I was warned against eating too much liver, due to the high levels of vitamine A. Too much vitamine A is bad for the unborn child, and could even be fatal. Now I wonder how many women were so conscious of it, that they ended up getting too little of it...</td>\n",
       "      <td>4</td>\n",
       "      <td>t3_5qo49s</td>\n",
       "      <td>dd1wtw2</td>\n",
       "      <td>1485686073</td>\n",
       "      <td>1486529379</td>\n",
       "      <td>False</td>\n",
       "    </tr>\n",
       "    <tr>\n",
       "      <th>3</th>\n",
       "      <td>4</td>\n",
       "      <td>Imagine if this find was the bug that eradicated the dinosaurs.  Us finding it only started the humanity death clock.</td>\n",
       "      <td>14</td>\n",
       "      <td>t3_5qmr9c</td>\n",
       "      <td>dd0qpcr</td>\n",
       "      <td>1485618726</td>\n",
       "      <td>1486509114</td>\n",
       "      <td>True</td>\n",
       "    </tr>\n",
       "    <tr>\n",
       "      <th>4</th>\n",
       "      <td>5</td>\n",
       "      <td>Is it a myth that the math says it would take all the energy in the universe to reach absolute zero?</td>\n",
       "      <td>0</td>\n",
       "      <td>t3_6wtiwg</td>\n",
       "      <td>dmb0sg4</td>\n",
       "      <td>1504050679</td>\n",
       "      <td>1504495504</td>\n",
       "      <td>False</td>\n",
       "    </tr>\n",
       "  </tbody>\n",
       "</table>\n",
       "</div>"
      ],
      "text/plain": [
       "   Unnamed: 0   \n",
       "0           1  \\\n",
       "1           2   \n",
       "2           3   \n",
       "3           4   \n",
       "4           5   \n",
       "\n",
       "                                                                                                                                                                                                                                                                                                                                                                                                                                                                                                                                                                                                                                                                                                                                                                                                                                                                                                                                                                                                                                                                          body   \n",
       "0  Hi Larpo_Nadar, your submission has been removed for the following reason(s)\\r\\n \\r\\nYour submission has been removed because flair has not been assigned. \\r\\n \\r\\n*This removal was automatic. If you feel this was done in error, or would like further clarification, please add flair to the post and then [message the mods](http://www.reddit.com/message/compose?to=%2Fr%2FScience&amp;amp;message=My%20Post:%20https://www.reddit.com/r/science/comments/74udg6/a_2017_nobel_laureate_says_he_left_science/).*\\r\\n\\r\\nYou can flair this post by replying to this message with  your  flair choice.  It must be an exact match to one of the following words:\\r\\n\\r\\n Neuroscience, Astronomy,Biology, Health, Engineering, Nanoscience, Paleontology, Cancer, Epidemiology, Social Science, Computer Sci, Physics, Mathematics, Medicine, Animal Science, Environment, Chemistry, Geology, Psychology, Anthropology. \\r\\n\\r\\nOnce flaired, your post will be automatically approved.  Please wait at least 15 minutes before messaging the mods about this post.   \\\n",
       "1                                                                                                                                                                                                                                                                                                                                                                                                                                                                                                                                                                                                                                                                                                                                                                                                                                                                                                                                              So out of every 10,000 children with autism who did not get vaccinated, how many ended up with a preventible illness? Any data?   \n",
       "2                                                                                                                                                                                                                                                                                                                                                                                                                                                                                                                                                                                                                                                                                                                                                                                        When I was pregnant, I was warned against eating too much liver, due to the high levels of vitamine A. Too much vitamine A is bad for the unborn child, and could even be fatal. Now I wonder how many women were so conscious of it, that they ended up getting too little of it...    \n",
       "3                                                                                                                                                                                                                                                                                                                                                                                                                                                                                                                                                                                                                                                                                                                                                                                                                                                                                                                                                      Imagine if this find was the bug that eradicated the dinosaurs.  Us finding it only started the humanity death clock.     \n",
       "4                                                                                                                                                                                                                                                                                                                                                                                                                                                                                                                                                                                                                                                                                                                                                                                                                                                                                                                                                                         Is it a myth that the math says it would take all the energy in the universe to reach absolute zero?   \n",
       "\n",
       "   score.x parent_id.x       id  created_utc.x  retrieved_on  REMOVED  \n",
       "0        0   t3_74udg6  do15nly     1507377013    1509603985     True  \n",
       "1        8   t3_879uw5  dwc3dps     1522107010    1525623538    False  \n",
       "2        4   t3_5qo49s  dd1wtw2     1485686073    1486529379    False  \n",
       "3       14   t3_5qmr9c  dd0qpcr     1485618726    1486509114     True  \n",
       "4        0   t3_6wtiwg  dmb0sg4     1504050679    1504495504    False  "
      ]
     },
     "execution_count": 70,
     "metadata": {},
     "output_type": "execute_result"
    }
   ],
   "source": [
    "# Read the CSV file into a DataFrame for test data\n",
    "df_test=pd.read_csv(\"../data/raw/reddit_200k_test.csv\",encoding=\"ISO-8859-1\")\n",
    "df_test.head()"
   ]
  },
  {
   "cell_type": "code",
   "execution_count": 71,
   "metadata": {},
   "outputs": [
    {
     "name": "stdout",
     "output_type": "stream",
     "text": [
      "Shape before cleaning: (55843, 8)\n",
      "Shape after cleaning: (55843, 3)\n"
     ]
    }
   ],
   "source": [
    "#Cleaning and writing as parquet file\n",
    "df_test=cleaning_function(df_test,\"data_test\")"
   ]
  },
  {
   "cell_type": "code",
   "execution_count": 74,
   "metadata": {},
   "outputs": [],
   "source": [
    "# Append test on top of train\n",
    "df_combined = pd.concat([df_train,df_test])\n",
    "\n",
    "# Reset the index of the combined DataFrame\n",
    "df_combined.reset_index(drop=True, inplace=True)"
   ]
  },
  {
   "cell_type": "code",
   "execution_count": 76,
   "metadata": {},
   "outputs": [
    {
     "data": {
      "text/plain": [
       "(223372, 3)"
      ]
     },
     "execution_count": 76,
     "metadata": {},
     "output_type": "execute_result"
    }
   ],
   "source": [
    "df_combined.shape"
   ]
  },
  {
   "cell_type": "code",
   "execution_count": 77,
   "metadata": {},
   "outputs": [],
   "source": [
    "#Writing back the data as parquet\n",
    "df_combined.to_parquet('../data/cleaned/safechat_data.parquet')"
   ]
  },
  {
   "cell_type": "code",
   "execution_count": null,
   "metadata": {},
   "outputs": [],
   "source": []
  }
 ],
 "metadata": {
  "kernelspec": {
   "display_name": "Python 3",
   "language": "python",
   "name": "python3"
  },
  "language_info": {
   "codemirror_mode": {
    "name": "ipython",
    "version": 3
   },
   "file_extension": ".py",
   "mimetype": "text/x-python",
   "name": "python",
   "nbconvert_exporter": "python",
   "pygments_lexer": "ipython3",
   "version": "3.9.6"
  },
  "orig_nbformat": 4
 },
 "nbformat": 4,
 "nbformat_minor": 2
}
